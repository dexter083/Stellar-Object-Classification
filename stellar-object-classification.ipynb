{
 "cells": [
  {
   "cell_type": "markdown",
   "id": "083ad50a",
   "metadata": {
    "papermill": {
     "duration": 0.022621,
     "end_time": "2022-04-20T16:25:14.383184",
     "exception": false,
     "start_time": "2022-04-20T16:25:14.360563",
     "status": "completed"
    },
    "tags": []
   },
   "source": [
    "# **STELLAR OBJECT CLASSIFICATION USING LOGISTIC REGRESSION**"
   ]
  },
  {
   "cell_type": "markdown",
   "id": "5eb62b4f",
   "metadata": {
    "papermill": {
     "duration": 0.021463,
     "end_time": "2022-04-20T16:25:14.426134",
     "exception": false,
     "start_time": "2022-04-20T16:25:14.404671",
     "status": "completed"
    },
    "tags": []
   },
   "source": [
    "**This notebook implements the Multiclass Logestic Regression to classify the Stellar objects into galaxy(0), Quasar(1) or Star(2).**"
   ]
  },
  {
   "cell_type": "markdown",
   "id": "14bfe8c1",
   "metadata": {
    "papermill": {
     "duration": 0.021523,
     "end_time": "2022-04-20T16:25:14.469298",
     "exception": false,
     "start_time": "2022-04-20T16:25:14.447775",
     "status": "completed"
    },
    "tags": []
   },
   "source": [
    "## **Importing dependancies**"
   ]
  },
  {
   "cell_type": "code",
   "execution_count": 1,
   "id": "46bd3c35",
   "metadata": {
    "execution": {
     "iopub.execute_input": "2022-04-20T16:25:14.514204Z",
     "iopub.status.busy": "2022-04-20T16:25:14.513739Z",
     "iopub.status.idle": "2022-04-20T16:25:15.958740Z",
     "shell.execute_reply": "2022-04-20T16:25:15.957899Z"
    },
    "papermill": {
     "duration": 1.4701,
     "end_time": "2022-04-20T16:25:15.961102",
     "exception": false,
     "start_time": "2022-04-20T16:25:14.491002",
     "status": "completed"
    },
    "tags": []
   },
   "outputs": [],
   "source": [
    "import pandas as pd\n",
    "import numpy as np\n",
    "import matplotlib.pyplot as plt\n",
    "import seaborn as sns\n",
    "from sklearn.model_selection import train_test_split\n",
    "from sklearn.linear_model import LogisticRegression\n",
    "from sklearn.metrics import confusion_matrix"
   ]
  },
  {
   "cell_type": "markdown",
   "id": "17e34127",
   "metadata": {
    "papermill": {
     "duration": 0.020613,
     "end_time": "2022-04-20T16:25:16.002982",
     "exception": false,
     "start_time": "2022-04-20T16:25:15.982369",
     "status": "completed"
    },
    "tags": []
   },
   "source": [
    "## **Importing Data**"
   ]
  },
  {
   "cell_type": "code",
   "execution_count": 2,
   "id": "d3c5e62b",
   "metadata": {
    "execution": {
     "iopub.execute_input": "2022-04-20T16:25:16.050210Z",
     "iopub.status.busy": "2022-04-20T16:25:16.049941Z",
     "iopub.status.idle": "2022-04-20T16:25:16.470610Z",
     "shell.execute_reply": "2022-04-20T16:25:16.469824Z"
    },
    "papermill": {
     "duration": 0.449242,
     "end_time": "2022-04-20T16:25:16.473351",
     "exception": false,
     "start_time": "2022-04-20T16:25:16.024109",
     "status": "completed"
    },
    "tags": []
   },
   "outputs": [
    {
     "data": {
      "text/html": [
       "<div>\n",
       "<style scoped>\n",
       "    .dataframe tbody tr th:only-of-type {\n",
       "        vertical-align: middle;\n",
       "    }\n",
       "\n",
       "    .dataframe tbody tr th {\n",
       "        vertical-align: top;\n",
       "    }\n",
       "\n",
       "    .dataframe thead th {\n",
       "        text-align: right;\n",
       "    }\n",
       "</style>\n",
       "<table border=\"1\" class=\"dataframe\">\n",
       "  <thead>\n",
       "    <tr style=\"text-align: right;\">\n",
       "      <th></th>\n",
       "      <th>obj_ID</th>\n",
       "      <th>alpha</th>\n",
       "      <th>delta</th>\n",
       "      <th>u</th>\n",
       "      <th>g</th>\n",
       "      <th>r</th>\n",
       "      <th>i</th>\n",
       "      <th>z</th>\n",
       "      <th>run_ID</th>\n",
       "      <th>rerun_ID</th>\n",
       "      <th>cam_col</th>\n",
       "      <th>field_ID</th>\n",
       "      <th>spec_obj_ID</th>\n",
       "      <th>class</th>\n",
       "      <th>redshift</th>\n",
       "      <th>plate</th>\n",
       "      <th>MJD</th>\n",
       "      <th>fiber_ID</th>\n",
       "    </tr>\n",
       "  </thead>\n",
       "  <tbody>\n",
       "    <tr>\n",
       "      <th>0</th>\n",
       "      <td>1.237661e+18</td>\n",
       "      <td>135.689107</td>\n",
       "      <td>32.494632</td>\n",
       "      <td>23.87882</td>\n",
       "      <td>22.27530</td>\n",
       "      <td>20.39501</td>\n",
       "      <td>19.16573</td>\n",
       "      <td>18.79371</td>\n",
       "      <td>3606</td>\n",
       "      <td>301</td>\n",
       "      <td>2</td>\n",
       "      <td>79</td>\n",
       "      <td>6.543777e+18</td>\n",
       "      <td>GALAXY</td>\n",
       "      <td>0.634794</td>\n",
       "      <td>5812</td>\n",
       "      <td>56354</td>\n",
       "      <td>171</td>\n",
       "    </tr>\n",
       "    <tr>\n",
       "      <th>1</th>\n",
       "      <td>1.237665e+18</td>\n",
       "      <td>144.826101</td>\n",
       "      <td>31.274185</td>\n",
       "      <td>24.77759</td>\n",
       "      <td>22.83188</td>\n",
       "      <td>22.58444</td>\n",
       "      <td>21.16812</td>\n",
       "      <td>21.61427</td>\n",
       "      <td>4518</td>\n",
       "      <td>301</td>\n",
       "      <td>5</td>\n",
       "      <td>119</td>\n",
       "      <td>1.176014e+19</td>\n",
       "      <td>GALAXY</td>\n",
       "      <td>0.779136</td>\n",
       "      <td>10445</td>\n",
       "      <td>58158</td>\n",
       "      <td>427</td>\n",
       "    </tr>\n",
       "    <tr>\n",
       "      <th>2</th>\n",
       "      <td>1.237661e+18</td>\n",
       "      <td>142.188790</td>\n",
       "      <td>35.582444</td>\n",
       "      <td>25.26307</td>\n",
       "      <td>22.66389</td>\n",
       "      <td>20.60976</td>\n",
       "      <td>19.34857</td>\n",
       "      <td>18.94827</td>\n",
       "      <td>3606</td>\n",
       "      <td>301</td>\n",
       "      <td>2</td>\n",
       "      <td>120</td>\n",
       "      <td>5.152200e+18</td>\n",
       "      <td>GALAXY</td>\n",
       "      <td>0.644195</td>\n",
       "      <td>4576</td>\n",
       "      <td>55592</td>\n",
       "      <td>299</td>\n",
       "    </tr>\n",
       "    <tr>\n",
       "      <th>3</th>\n",
       "      <td>1.237663e+18</td>\n",
       "      <td>338.741038</td>\n",
       "      <td>-0.402828</td>\n",
       "      <td>22.13682</td>\n",
       "      <td>23.77656</td>\n",
       "      <td>21.61162</td>\n",
       "      <td>20.50454</td>\n",
       "      <td>19.25010</td>\n",
       "      <td>4192</td>\n",
       "      <td>301</td>\n",
       "      <td>3</td>\n",
       "      <td>214</td>\n",
       "      <td>1.030107e+19</td>\n",
       "      <td>GALAXY</td>\n",
       "      <td>0.932346</td>\n",
       "      <td>9149</td>\n",
       "      <td>58039</td>\n",
       "      <td>775</td>\n",
       "    </tr>\n",
       "    <tr>\n",
       "      <th>4</th>\n",
       "      <td>1.237680e+18</td>\n",
       "      <td>345.282593</td>\n",
       "      <td>21.183866</td>\n",
       "      <td>19.43718</td>\n",
       "      <td>17.58028</td>\n",
       "      <td>16.49747</td>\n",
       "      <td>15.97711</td>\n",
       "      <td>15.54461</td>\n",
       "      <td>8102</td>\n",
       "      <td>301</td>\n",
       "      <td>3</td>\n",
       "      <td>137</td>\n",
       "      <td>6.891865e+18</td>\n",
       "      <td>GALAXY</td>\n",
       "      <td>0.116123</td>\n",
       "      <td>6121</td>\n",
       "      <td>56187</td>\n",
       "      <td>842</td>\n",
       "    </tr>\n",
       "  </tbody>\n",
       "</table>\n",
       "</div>"
      ],
      "text/plain": [
       "         obj_ID       alpha      delta         u         g         r  \\\n",
       "0  1.237661e+18  135.689107  32.494632  23.87882  22.27530  20.39501   \n",
       "1  1.237665e+18  144.826101  31.274185  24.77759  22.83188  22.58444   \n",
       "2  1.237661e+18  142.188790  35.582444  25.26307  22.66389  20.60976   \n",
       "3  1.237663e+18  338.741038  -0.402828  22.13682  23.77656  21.61162   \n",
       "4  1.237680e+18  345.282593  21.183866  19.43718  17.58028  16.49747   \n",
       "\n",
       "          i         z  run_ID  rerun_ID  cam_col  field_ID   spec_obj_ID  \\\n",
       "0  19.16573  18.79371    3606       301        2        79  6.543777e+18   \n",
       "1  21.16812  21.61427    4518       301        5       119  1.176014e+19   \n",
       "2  19.34857  18.94827    3606       301        2       120  5.152200e+18   \n",
       "3  20.50454  19.25010    4192       301        3       214  1.030107e+19   \n",
       "4  15.97711  15.54461    8102       301        3       137  6.891865e+18   \n",
       "\n",
       "    class  redshift  plate    MJD  fiber_ID  \n",
       "0  GALAXY  0.634794   5812  56354       171  \n",
       "1  GALAXY  0.779136  10445  58158       427  \n",
       "2  GALAXY  0.644195   4576  55592       299  \n",
       "3  GALAXY  0.932346   9149  58039       775  \n",
       "4  GALAXY  0.116123   6121  56187       842  "
      ]
     },
     "execution_count": 2,
     "metadata": {},
     "output_type": "execute_result"
    }
   ],
   "source": [
    "df_1 = pd.read_csv('../input/stellar-classification-dataset-sdss17/star_classification.csv')\n",
    "df_1.head()"
   ]
  },
  {
   "cell_type": "markdown",
   "id": "0b72bd26",
   "metadata": {
    "papermill": {
     "duration": 0.021813,
     "end_time": "2022-04-20T16:25:16.517373",
     "exception": false,
     "start_time": "2022-04-20T16:25:16.495560",
     "status": "completed"
    },
    "tags": []
   },
   "source": [
    "# **DATA CLEANING**"
   ]
  },
  {
   "cell_type": "markdown",
   "id": "7db10c15",
   "metadata": {
    "papermill": {
     "duration": 0.021395,
     "end_time": "2022-04-20T16:25:16.561029",
     "exception": false,
     "start_time": "2022-04-20T16:25:16.539634",
     "status": "completed"
    },
    "tags": []
   },
   "source": [
    "### **Droping unwanted Columns**"
   ]
  },
  {
   "cell_type": "code",
   "execution_count": 3,
   "id": "4fcc8354",
   "metadata": {
    "execution": {
     "iopub.execute_input": "2022-04-20T16:25:16.606319Z",
     "iopub.status.busy": "2022-04-20T16:25:16.605778Z",
     "iopub.status.idle": "2022-04-20T16:25:16.628753Z",
     "shell.execute_reply": "2022-04-20T16:25:16.627933Z"
    },
    "papermill": {
     "duration": 0.047915,
     "end_time": "2022-04-20T16:25:16.630697",
     "exception": false,
     "start_time": "2022-04-20T16:25:16.582782",
     "status": "completed"
    },
    "tags": []
   },
   "outputs": [
    {
     "data": {
      "text/html": [
       "<div>\n",
       "<style scoped>\n",
       "    .dataframe tbody tr th:only-of-type {\n",
       "        vertical-align: middle;\n",
       "    }\n",
       "\n",
       "    .dataframe tbody tr th {\n",
       "        vertical-align: top;\n",
       "    }\n",
       "\n",
       "    .dataframe thead th {\n",
       "        text-align: right;\n",
       "    }\n",
       "</style>\n",
       "<table border=\"1\" class=\"dataframe\">\n",
       "  <thead>\n",
       "    <tr style=\"text-align: right;\">\n",
       "      <th></th>\n",
       "      <th>alpha</th>\n",
       "      <th>delta</th>\n",
       "      <th>u</th>\n",
       "      <th>g</th>\n",
       "      <th>r</th>\n",
       "      <th>i</th>\n",
       "      <th>z</th>\n",
       "      <th>class</th>\n",
       "      <th>redshift</th>\n",
       "    </tr>\n",
       "  </thead>\n",
       "  <tbody>\n",
       "    <tr>\n",
       "      <th>0</th>\n",
       "      <td>135.689107</td>\n",
       "      <td>32.494632</td>\n",
       "      <td>23.87882</td>\n",
       "      <td>22.27530</td>\n",
       "      <td>20.39501</td>\n",
       "      <td>19.16573</td>\n",
       "      <td>18.79371</td>\n",
       "      <td>GALAXY</td>\n",
       "      <td>0.634794</td>\n",
       "    </tr>\n",
       "    <tr>\n",
       "      <th>1</th>\n",
       "      <td>144.826101</td>\n",
       "      <td>31.274185</td>\n",
       "      <td>24.77759</td>\n",
       "      <td>22.83188</td>\n",
       "      <td>22.58444</td>\n",
       "      <td>21.16812</td>\n",
       "      <td>21.61427</td>\n",
       "      <td>GALAXY</td>\n",
       "      <td>0.779136</td>\n",
       "    </tr>\n",
       "    <tr>\n",
       "      <th>2</th>\n",
       "      <td>142.188790</td>\n",
       "      <td>35.582444</td>\n",
       "      <td>25.26307</td>\n",
       "      <td>22.66389</td>\n",
       "      <td>20.60976</td>\n",
       "      <td>19.34857</td>\n",
       "      <td>18.94827</td>\n",
       "      <td>GALAXY</td>\n",
       "      <td>0.644195</td>\n",
       "    </tr>\n",
       "    <tr>\n",
       "      <th>3</th>\n",
       "      <td>338.741038</td>\n",
       "      <td>-0.402828</td>\n",
       "      <td>22.13682</td>\n",
       "      <td>23.77656</td>\n",
       "      <td>21.61162</td>\n",
       "      <td>20.50454</td>\n",
       "      <td>19.25010</td>\n",
       "      <td>GALAXY</td>\n",
       "      <td>0.932346</td>\n",
       "    </tr>\n",
       "    <tr>\n",
       "      <th>4</th>\n",
       "      <td>345.282593</td>\n",
       "      <td>21.183866</td>\n",
       "      <td>19.43718</td>\n",
       "      <td>17.58028</td>\n",
       "      <td>16.49747</td>\n",
       "      <td>15.97711</td>\n",
       "      <td>15.54461</td>\n",
       "      <td>GALAXY</td>\n",
       "      <td>0.116123</td>\n",
       "    </tr>\n",
       "  </tbody>\n",
       "</table>\n",
       "</div>"
      ],
      "text/plain": [
       "        alpha      delta         u         g         r         i         z  \\\n",
       "0  135.689107  32.494632  23.87882  22.27530  20.39501  19.16573  18.79371   \n",
       "1  144.826101  31.274185  24.77759  22.83188  22.58444  21.16812  21.61427   \n",
       "2  142.188790  35.582444  25.26307  22.66389  20.60976  19.34857  18.94827   \n",
       "3  338.741038  -0.402828  22.13682  23.77656  21.61162  20.50454  19.25010   \n",
       "4  345.282593  21.183866  19.43718  17.58028  16.49747  15.97711  15.54461   \n",
       "\n",
       "    class  redshift  \n",
       "0  GALAXY  0.634794  \n",
       "1  GALAXY  0.779136  \n",
       "2  GALAXY  0.644195  \n",
       "3  GALAXY  0.932346  \n",
       "4  GALAXY  0.116123  "
      ]
     },
     "execution_count": 3,
     "metadata": {},
     "output_type": "execute_result"
    }
   ],
   "source": [
    "df_2=df_1.drop(['obj_ID','run_ID','rerun_ID','cam_col','field_ID','spec_obj_ID','plate','MJD','fiber_ID'],axis=1)\n",
    "df_2.head()"
   ]
  },
  {
   "cell_type": "markdown",
   "id": "af011791",
   "metadata": {
    "papermill": {
     "duration": 0.022693,
     "end_time": "2022-04-20T16:25:16.675838",
     "exception": false,
     "start_time": "2022-04-20T16:25:16.653145",
     "status": "completed"
    },
    "tags": []
   },
   "source": [
    "# **EDA ANALYSIS**"
   ]
  },
  {
   "cell_type": "markdown",
   "id": "99f2bca0",
   "metadata": {
    "papermill": {
     "duration": 0.022228,
     "end_time": "2022-04-20T16:25:16.720364",
     "exception": false,
     "start_time": "2022-04-20T16:25:16.698136",
     "status": "completed"
    },
    "tags": []
   },
   "source": [
    "## **Getting the names of all features**"
   ]
  },
  {
   "cell_type": "code",
   "execution_count": 4,
   "id": "c36bea01",
   "metadata": {
    "execution": {
     "iopub.execute_input": "2022-04-20T16:25:16.766853Z",
     "iopub.status.busy": "2022-04-20T16:25:16.766573Z",
     "iopub.status.idle": "2022-04-20T16:25:16.772188Z",
     "shell.execute_reply": "2022-04-20T16:25:16.771352Z"
    },
    "papermill": {
     "duration": 0.031074,
     "end_time": "2022-04-20T16:25:16.774092",
     "exception": false,
     "start_time": "2022-04-20T16:25:16.743018",
     "status": "completed"
    },
    "tags": []
   },
   "outputs": [
    {
     "name": "stdout",
     "output_type": "stream",
     "text": [
      "alpha\n",
      "delta\n",
      "u\n",
      "g\n",
      "r\n",
      "i\n",
      "z\n",
      "class\n",
      "redshift\n"
     ]
    }
   ],
   "source": [
    "for col in df_2.columns:\n",
    "    print(col)"
   ]
  },
  {
   "cell_type": "markdown",
   "id": "84751c68",
   "metadata": {
    "papermill": {
     "duration": 0.022246,
     "end_time": "2022-04-20T16:25:16.820872",
     "exception": false,
     "start_time": "2022-04-20T16:25:16.798626",
     "status": "completed"
    },
    "tags": []
   },
   "source": [
    "### **Checking for Null Values in Data**"
   ]
  },
  {
   "cell_type": "code",
   "execution_count": 5,
   "id": "a25ce901",
   "metadata": {
    "execution": {
     "iopub.execute_input": "2022-04-20T16:25:16.868622Z",
     "iopub.status.busy": "2022-04-20T16:25:16.867778Z",
     "iopub.status.idle": "2022-04-20T16:25:16.881305Z",
     "shell.execute_reply": "2022-04-20T16:25:16.880713Z"
    },
    "papermill": {
     "duration": 0.038728,
     "end_time": "2022-04-20T16:25:16.882900",
     "exception": false,
     "start_time": "2022-04-20T16:25:16.844172",
     "status": "completed"
    },
    "tags": []
   },
   "outputs": [
    {
     "data": {
      "text/plain": [
       "alpha       0\n",
       "delta       0\n",
       "u           0\n",
       "g           0\n",
       "r           0\n",
       "i           0\n",
       "z           0\n",
       "class       0\n",
       "redshift    0\n",
       "dtype: int64"
      ]
     },
     "execution_count": 5,
     "metadata": {},
     "output_type": "execute_result"
    }
   ],
   "source": [
    "df_2.isnull().sum()"
   ]
  },
  {
   "cell_type": "markdown",
   "id": "ff2aa64e",
   "metadata": {
    "papermill": {
     "duration": 0.023354,
     "end_time": "2022-04-20T16:25:16.929908",
     "exception": false,
     "start_time": "2022-04-20T16:25:16.906554",
     "status": "completed"
    },
    "tags": []
   },
   "source": [
    "### **Redshift of different objects**"
   ]
  },
  {
   "cell_type": "code",
   "execution_count": 6,
   "id": "aacbc2c9",
   "metadata": {
    "execution": {
     "iopub.execute_input": "2022-04-20T16:25:16.977883Z",
     "iopub.status.busy": "2022-04-20T16:25:16.977356Z",
     "iopub.status.idle": "2022-04-20T16:25:17.307736Z",
     "shell.execute_reply": "2022-04-20T16:25:17.306722Z"
    },
    "papermill": {
     "duration": 0.356766,
     "end_time": "2022-04-20T16:25:17.309926",
     "exception": false,
     "start_time": "2022-04-20T16:25:16.953160",
     "status": "completed"
    },
    "tags": []
   },
   "outputs": [
    {
     "data": {
      "text/plain": [
       "[Text(0.5, 0, 'Redshift'), Text(0, 0.5, 'Type of Object')]"
      ]
     },
     "execution_count": 6,
     "metadata": {},
     "output_type": "execute_result"
    },
    {
     "data": {
      "image/png": "[encoded data removed]",
      "text/plain": [
       "<Figure size 1080x720 with 1 Axes>"
      ]
     },
     "metadata": {
      "needs_background": "light"
     },
     "output_type": "display_data"
    }
   ],
   "source": [
    "plt.figure(figsize = (15,10))\n",
    "sns.boxenplot(x=\"redshift\",y=\"class\",data=df_2).set(xlabel='Redshift',ylabel='Type of Object')"
   ]
  },
  {
   "cell_type": "markdown",
   "id": "37e5f88a",
   "metadata": {
    "papermill": {
     "duration": 0.023864,
     "end_time": "2022-04-20T16:25:17.358397",
     "exception": false,
     "start_time": "2022-04-20T16:25:17.334533",
     "status": "completed"
    },
    "tags": []
   },
   "source": [
    "### **Energy coming through Red light from different objects.**"
   ]
  },
  {
   "cell_type": "code",
   "execution_count": 7,
   "id": "9c9f3c4b",
   "metadata": {
    "execution": {
     "iopub.execute_input": "2022-04-20T16:25:17.408310Z",
     "iopub.status.busy": "2022-04-20T16:25:17.407783Z",
     "iopub.status.idle": "2022-04-20T16:25:17.706257Z",
     "shell.execute_reply": "2022-04-20T16:25:17.705438Z"
    },
    "papermill": {
     "duration": 0.326001,
     "end_time": "2022-04-20T16:25:17.708372",
     "exception": false,
     "start_time": "2022-04-20T16:25:17.382371",
     "status": "completed"
    },
    "tags": []
   },
   "outputs": [
    {
     "data": {
      "text/plain": [
       "[Text(0.5, 0, 'Red filter'), Text(0, 0.5, 'Type of Object')]"
      ]
     },
     "execution_count": 7,
     "metadata": {},
     "output_type": "execute_result"
    },
    {
     "data": {
      "image/png": "[encoded data removed]",
      "text/plain": [
       "<Figure size 1080x720 with 1 Axes>"
      ]
     },
     "metadata": {
      "needs_background": "light"
     },
     "output_type": "display_data"
    }
   ],
   "source": [
    "plt.figure(figsize = (15,10))\n",
    "sns.boxenplot(x=\"r\",y=\"class\",data=df_2).set(xlabel='Red filter',ylabel='Type of Object')"
   ]
  },
  {
   "cell_type": "markdown",
   "id": "612e59e3",
   "metadata": {
    "papermill": {
     "duration": 0.025542,
     "end_time": "2022-04-20T16:25:17.759006",
     "exception": false,
     "start_time": "2022-04-20T16:25:17.733464",
     "status": "completed"
    },
    "tags": []
   },
   "source": [
    "### **Energy coming through Near Infrared light from different objects.**"
   ]
  },
  {
   "cell_type": "code",
   "execution_count": 8,
   "id": "89391162",
   "metadata": {
    "execution": {
     "iopub.execute_input": "2022-04-20T16:25:17.811086Z",
     "iopub.status.busy": "2022-04-20T16:25:17.810548Z",
     "iopub.status.idle": "2022-04-20T16:25:18.095348Z",
     "shell.execute_reply": "2022-04-20T16:25:18.094542Z"
    },
    "papermill": {
     "duration": 0.313358,
     "end_time": "2022-04-20T16:25:18.097552",
     "exception": false,
     "start_time": "2022-04-20T16:25:17.784194",
     "status": "completed"
    },
    "tags": []
   },
   "outputs": [
    {
     "data": {
      "text/plain": [
       "[Text(0.5, 0, 'Near Infrared filter'), Text(0, 0.5, 'Type of Object')]"
      ]
     },
     "execution_count": 8,
     "metadata": {},
     "output_type": "execute_result"
    },
    {
     "data": {
      "image/png": "[encoded data removed]",
      "text/plain": [
       "<Figure size 1080x720 with 1 Axes>"
      ]
     },
     "metadata": {
      "needs_background": "light"
     },
     "output_type": "display_data"
    }
   ],
   "source": [
    "plt.figure(figsize = (15,10))\n",
    "sns.boxenplot(x=\"i\",y=\"class\",data=df_2).set(xlabel='Near Infrared filter',ylabel='Type of Object')"
   ]
  },
  {
   "cell_type": "markdown",
   "id": "e2ee0cc7",
   "metadata": {
    "papermill": {
     "duration": 0.02611,
     "end_time": "2022-04-20T16:25:18.149804",
     "exception": false,
     "start_time": "2022-04-20T16:25:18.123694",
     "status": "completed"
    },
    "tags": []
   },
   "source": [
    "# **BUILDING & TRAINING OF LOGISTIC REGRESSION MODEL**"
   ]
  },
  {
   "cell_type": "markdown",
   "id": "9674e3e9",
   "metadata": {
    "papermill": {
     "duration": 0.025789,
     "end_time": "2022-04-20T16:25:18.202268",
     "exception": false,
     "start_time": "2022-04-20T16:25:18.176479",
     "status": "completed"
    },
    "tags": []
   },
   "source": [
    "## **Defining Dependent and Independent Variables**"
   ]
  },
  {
   "cell_type": "markdown",
   "id": "04bf5074",
   "metadata": {
    "papermill": {
     "duration": 0.026299,
     "end_time": "2022-04-20T16:25:18.254927",
     "exception": false,
     "start_time": "2022-04-20T16:25:18.228628",
     "status": "completed"
    },
    "tags": []
   },
   "source": [
    "**Dependent variable will be everything apart from class**"
   ]
  },
  {
   "cell_type": "code",
   "execution_count": 9,
   "id": "842685b2",
   "metadata": {
    "execution": {
     "iopub.execute_input": "2022-04-20T16:25:18.308912Z",
     "iopub.status.busy": "2022-04-20T16:25:18.308655Z",
     "iopub.status.idle": "2022-04-20T16:25:18.323782Z",
     "shell.execute_reply": "2022-04-20T16:25:18.323197Z"
    },
    "papermill": {
     "duration": 0.044361,
     "end_time": "2022-04-20T16:25:18.325409",
     "exception": false,
     "start_time": "2022-04-20T16:25:18.281048",
     "status": "completed"
    },
    "tags": []
   },
   "outputs": [
    {
     "data": {
      "text/html": [
       "<div>\n",
       "<style scoped>\n",
       "    .dataframe tbody tr th:only-of-type {\n",
       "        vertical-align: middle;\n",
       "    }\n",
       "\n",
       "    .dataframe tbody tr th {\n",
       "        vertical-align: top;\n",
       "    }\n",
       "\n",
       "    .dataframe thead th {\n",
       "        text-align: right;\n",
       "    }\n",
       "</style>\n",
       "<table border=\"1\" class=\"dataframe\">\n",
       "  <thead>\n",
       "    <tr style=\"text-align: right;\">\n",
       "      <th></th>\n",
       "      <th>alpha</th>\n",
       "      <th>delta</th>\n",
       "      <th>u</th>\n",
       "      <th>g</th>\n",
       "      <th>r</th>\n",
       "      <th>i</th>\n",
       "      <th>z</th>\n",
       "      <th>redshift</th>\n",
       "    </tr>\n",
       "  </thead>\n",
       "  <tbody>\n",
       "    <tr>\n",
       "      <th>0</th>\n",
       "      <td>135.689107</td>\n",
       "      <td>32.494632</td>\n",
       "      <td>23.87882</td>\n",
       "      <td>22.27530</td>\n",
       "      <td>20.39501</td>\n",
       "      <td>19.16573</td>\n",
       "      <td>18.79371</td>\n",
       "      <td>0.634794</td>\n",
       "    </tr>\n",
       "    <tr>\n",
       "      <th>1</th>\n",
       "      <td>144.826101</td>\n",
       "      <td>31.274185</td>\n",
       "      <td>24.77759</td>\n",
       "      <td>22.83188</td>\n",
       "      <td>22.58444</td>\n",
       "      <td>21.16812</td>\n",
       "      <td>21.61427</td>\n",
       "      <td>0.779136</td>\n",
       "    </tr>\n",
       "    <tr>\n",
       "      <th>2</th>\n",
       "      <td>142.188790</td>\n",
       "      <td>35.582444</td>\n",
       "      <td>25.26307</td>\n",
       "      <td>22.66389</td>\n",
       "      <td>20.60976</td>\n",
       "      <td>19.34857</td>\n",
       "      <td>18.94827</td>\n",
       "      <td>0.644195</td>\n",
       "    </tr>\n",
       "    <tr>\n",
       "      <th>3</th>\n",
       "      <td>338.741038</td>\n",
       "      <td>-0.402828</td>\n",
       "      <td>22.13682</td>\n",
       "      <td>23.77656</td>\n",
       "      <td>21.61162</td>\n",
       "      <td>20.50454</td>\n",
       "      <td>19.25010</td>\n",
       "      <td>0.932346</td>\n",
       "    </tr>\n",
       "    <tr>\n",
       "      <th>4</th>\n",
       "      <td>345.282593</td>\n",
       "      <td>21.183866</td>\n",
       "      <td>19.43718</td>\n",
       "      <td>17.58028</td>\n",
       "      <td>16.49747</td>\n",
       "      <td>15.97711</td>\n",
       "      <td>15.54461</td>\n",
       "      <td>0.116123</td>\n",
       "    </tr>\n",
       "  </tbody>\n",
       "</table>\n",
       "</div>"
      ],
      "text/plain": [
       "        alpha      delta         u         g         r         i         z  \\\n",
       "0  135.689107  32.494632  23.87882  22.27530  20.39501  19.16573  18.79371   \n",
       "1  144.826101  31.274185  24.77759  22.83188  22.58444  21.16812  21.61427   \n",
       "2  142.188790  35.582444  25.26307  22.66389  20.60976  19.34857  18.94827   \n",
       "3  338.741038  -0.402828  22.13682  23.77656  21.61162  20.50454  19.25010   \n",
       "4  345.282593  21.183866  19.43718  17.58028  16.49747  15.97711  15.54461   \n",
       "\n",
       "   redshift  \n",
       "0  0.634794  \n",
       "1  0.779136  \n",
       "2  0.644195  \n",
       "3  0.932346  \n",
       "4  0.116123  "
      ]
     },
     "execution_count": 9,
     "metadata": {},
     "output_type": "execute_result"
    }
   ],
   "source": [
    "x= df_2.drop(['class'],axis=1)\n",
    "x.head()"
   ]
  },
  {
   "cell_type": "markdown",
   "id": "c2044f6b",
   "metadata": {
    "papermill": {
     "duration": 0.026352,
     "end_time": "2022-04-20T16:25:18.378579",
     "exception": false,
     "start_time": "2022-04-20T16:25:18.352227",
     "status": "completed"
    },
    "tags": []
   },
   "source": [
    "**Independent variable will be class**"
   ]
  },
  {
   "cell_type": "code",
   "execution_count": 10,
   "id": "8d03a440",
   "metadata": {
    "execution": {
     "iopub.execute_input": "2022-04-20T16:25:18.434095Z",
     "iopub.status.busy": "2022-04-20T16:25:18.433423Z",
     "iopub.status.idle": "2022-04-20T16:25:18.442242Z",
     "shell.execute_reply": "2022-04-20T16:25:18.441478Z"
    },
    "papermill": {
     "duration": 0.038892,
     "end_time": "2022-04-20T16:25:18.444110",
     "exception": false,
     "start_time": "2022-04-20T16:25:18.405218",
     "status": "completed"
    },
    "tags": []
   },
   "outputs": [
    {
     "data": {
      "text/html": [
       "<div>\n",
       "<style scoped>\n",
       "    .dataframe tbody tr th:only-of-type {\n",
       "        vertical-align: middle;\n",
       "    }\n",
       "\n",
       "    .dataframe tbody tr th {\n",
       "        vertical-align: top;\n",
       "    }\n",
       "\n",
       "    .dataframe thead th {\n",
       "        text-align: right;\n",
       "    }\n",
       "</style>\n",
       "<table border=\"1\" class=\"dataframe\">\n",
       "  <thead>\n",
       "    <tr style=\"text-align: right;\">\n",
       "      <th></th>\n",
       "      <th>class</th>\n",
       "    </tr>\n",
       "  </thead>\n",
       "  <tbody>\n",
       "    <tr>\n",
       "      <th>0</th>\n",
       "      <td>GALAXY</td>\n",
       "    </tr>\n",
       "    <tr>\n",
       "      <th>1</th>\n",
       "      <td>GALAXY</td>\n",
       "    </tr>\n",
       "    <tr>\n",
       "      <th>2</th>\n",
       "      <td>GALAXY</td>\n",
       "    </tr>\n",
       "    <tr>\n",
       "      <th>3</th>\n",
       "      <td>GALAXY</td>\n",
       "    </tr>\n",
       "    <tr>\n",
       "      <th>4</th>\n",
       "      <td>GALAXY</td>\n",
       "    </tr>\n",
       "  </tbody>\n",
       "</table>\n",
       "</div>"
      ],
      "text/plain": [
       "    class\n",
       "0  GALAXY\n",
       "1  GALAXY\n",
       "2  GALAXY\n",
       "3  GALAXY\n",
       "4  GALAXY"
      ]
     },
     "execution_count": 10,
     "metadata": {},
     "output_type": "execute_result"
    }
   ],
   "source": [
    "y= df_2[['class']]\n",
    "y.head()"
   ]
  },
  {
   "cell_type": "markdown",
   "id": "5f56842b",
   "metadata": {
    "papermill": {
     "duration": 0.026896,
     "end_time": "2022-04-20T16:25:18.498483",
     "exception": false,
     "start_time": "2022-04-20T16:25:18.471587",
     "status": "completed"
    },
    "tags": []
   },
   "source": [
    "## **Splitting Test and Train data sets**"
   ]
  },
  {
   "cell_type": "markdown",
   "id": "b588ceee",
   "metadata": {
    "papermill": {
     "duration": 0.026717,
     "end_time": "2022-04-20T16:25:18.552315",
     "exception": false,
     "start_time": "2022-04-20T16:25:18.525598",
     "status": "completed"
    },
    "tags": []
   },
   "source": [
    "**Train and Test data is split by 80-20 ratio, also Train data is fixed**"
   ]
  },
  {
   "cell_type": "code",
   "execution_count": 11,
   "id": "ad07f6bc",
   "metadata": {
    "execution": {
     "iopub.execute_input": "2022-04-20T16:25:18.608837Z",
     "iopub.status.busy": "2022-04-20T16:25:18.608523Z",
     "iopub.status.idle": "2022-04-20T16:25:18.629105Z",
     "shell.execute_reply": "2022-04-20T16:25:18.628165Z"
    },
    "papermill": {
     "duration": 0.051999,
     "end_time": "2022-04-20T16:25:18.631382",
     "exception": false,
     "start_time": "2022-04-20T16:25:18.579383",
     "status": "completed"
    },
    "tags": []
   },
   "outputs": [],
   "source": [
    "x_train, x_test, y_train, y_test = train_test_split(x,y,test_size=0.2,random_state=10)"
   ]
  },
  {
   "cell_type": "code",
   "execution_count": 12,
   "id": "f5d1c565",
   "metadata": {
    "execution": {
     "iopub.execute_input": "2022-04-20T16:25:18.689490Z",
     "iopub.status.busy": "2022-04-20T16:25:18.689208Z",
     "iopub.status.idle": "2022-04-20T16:25:18.702216Z",
     "shell.execute_reply": "2022-04-20T16:25:18.701418Z"
    },
    "papermill": {
     "duration": 0.044617,
     "end_time": "2022-04-20T16:25:18.703839",
     "exception": false,
     "start_time": "2022-04-20T16:25:18.659222",
     "status": "completed"
    },
    "tags": []
   },
   "outputs": [
    {
     "data": {
      "text/html": [
       "<div>\n",
       "<style scoped>\n",
       "    .dataframe tbody tr th:only-of-type {\n",
       "        vertical-align: middle;\n",
       "    }\n",
       "\n",
       "    .dataframe tbody tr th {\n",
       "        vertical-align: top;\n",
       "    }\n",
       "\n",
       "    .dataframe thead th {\n",
       "        text-align: right;\n",
       "    }\n",
       "</style>\n",
       "<table border=\"1\" class=\"dataframe\">\n",
       "  <thead>\n",
       "    <tr style=\"text-align: right;\">\n",
       "      <th></th>\n",
       "      <th>alpha</th>\n",
       "      <th>delta</th>\n",
       "      <th>u</th>\n",
       "      <th>g</th>\n",
       "      <th>r</th>\n",
       "      <th>i</th>\n",
       "      <th>z</th>\n",
       "      <th>redshift</th>\n",
       "    </tr>\n",
       "  </thead>\n",
       "  <tbody>\n",
       "    <tr>\n",
       "      <th>31152</th>\n",
       "      <td>182.634837</td>\n",
       "      <td>39.626517</td>\n",
       "      <td>21.08952</td>\n",
       "      <td>21.06453</td>\n",
       "      <td>20.85715</td>\n",
       "      <td>20.95956</td>\n",
       "      <td>20.61033</td>\n",
       "      <td>1.036468</td>\n",
       "    </tr>\n",
       "    <tr>\n",
       "      <th>33499</th>\n",
       "      <td>215.771078</td>\n",
       "      <td>15.074450</td>\n",
       "      <td>19.52671</td>\n",
       "      <td>19.49507</td>\n",
       "      <td>19.54840</td>\n",
       "      <td>19.31133</td>\n",
       "      <td>19.35584</td>\n",
       "      <td>1.872981</td>\n",
       "    </tr>\n",
       "    <tr>\n",
       "      <th>18594</th>\n",
       "      <td>117.481295</td>\n",
       "      <td>33.523910</td>\n",
       "      <td>20.71835</td>\n",
       "      <td>18.80559</td>\n",
       "      <td>17.76449</td>\n",
       "      <td>17.30837</td>\n",
       "      <td>16.92365</td>\n",
       "      <td>0.120712</td>\n",
       "    </tr>\n",
       "    <tr>\n",
       "      <th>97132</th>\n",
       "      <td>241.696805</td>\n",
       "      <td>54.335655</td>\n",
       "      <td>25.45814</td>\n",
       "      <td>21.63161</td>\n",
       "      <td>20.28455</td>\n",
       "      <td>19.57242</td>\n",
       "      <td>19.02991</td>\n",
       "      <td>0.556022</td>\n",
       "    </tr>\n",
       "    <tr>\n",
       "      <th>56015</th>\n",
       "      <td>154.721590</td>\n",
       "      <td>45.764829</td>\n",
       "      <td>25.89776</td>\n",
       "      <td>21.68266</td>\n",
       "      <td>19.82590</td>\n",
       "      <td>19.24631</td>\n",
       "      <td>18.67415</td>\n",
       "      <td>0.387010</td>\n",
       "    </tr>\n",
       "  </tbody>\n",
       "</table>\n",
       "</div>"
      ],
      "text/plain": [
       "            alpha      delta         u         g         r         i  \\\n",
       "31152  182.634837  39.626517  21.08952  21.06453  20.85715  20.95956   \n",
       "33499  215.771078  15.074450  19.52671  19.49507  19.54840  19.31133   \n",
       "18594  117.481295  33.523910  20.71835  18.80559  17.76449  17.30837   \n",
       "97132  241.696805  54.335655  25.45814  21.63161  20.28455  19.57242   \n",
       "56015  154.721590  45.764829  25.89776  21.68266  19.82590  19.24631   \n",
       "\n",
       "              z  redshift  \n",
       "31152  20.61033  1.036468  \n",
       "33499  19.35584  1.872981  \n",
       "18594  16.92365  0.120712  \n",
       "97132  19.02991  0.556022  \n",
       "56015  18.67415  0.387010  "
      ]
     },
     "execution_count": 12,
     "metadata": {},
     "output_type": "execute_result"
    }
   ],
   "source": [
    "x_train.head()"
   ]
  },
  {
   "cell_type": "code",
   "execution_count": 13,
   "id": "fed3bbf9",
   "metadata": {
    "execution": {
     "iopub.execute_input": "2022-04-20T16:25:18.760529Z",
     "iopub.status.busy": "2022-04-20T16:25:18.760058Z",
     "iopub.status.idle": "2022-04-20T16:25:18.766968Z",
     "shell.execute_reply": "2022-04-20T16:25:18.766463Z"
    },
    "papermill": {
     "duration": 0.037601,
     "end_time": "2022-04-20T16:25:18.768616",
     "exception": false,
     "start_time": "2022-04-20T16:25:18.731015",
     "status": "completed"
    },
    "tags": []
   },
   "outputs": [
    {
     "data": {
      "text/html": [
       "<div>\n",
       "<style scoped>\n",
       "    .dataframe tbody tr th:only-of-type {\n",
       "        vertical-align: middle;\n",
       "    }\n",
       "\n",
       "    .dataframe tbody tr th {\n",
       "        vertical-align: top;\n",
       "    }\n",
       "\n",
       "    .dataframe thead th {\n",
       "        text-align: right;\n",
       "    }\n",
       "</style>\n",
       "<table border=\"1\" class=\"dataframe\">\n",
       "  <thead>\n",
       "    <tr style=\"text-align: right;\">\n",
       "      <th></th>\n",
       "      <th>class</th>\n",
       "    </tr>\n",
       "  </thead>\n",
       "  <tbody>\n",
       "    <tr>\n",
       "      <th>31152</th>\n",
       "      <td>QSO</td>\n",
       "    </tr>\n",
       "    <tr>\n",
       "      <th>33499</th>\n",
       "      <td>QSO</td>\n",
       "    </tr>\n",
       "    <tr>\n",
       "      <th>18594</th>\n",
       "      <td>GALAXY</td>\n",
       "    </tr>\n",
       "    <tr>\n",
       "      <th>97132</th>\n",
       "      <td>GALAXY</td>\n",
       "    </tr>\n",
       "    <tr>\n",
       "      <th>56015</th>\n",
       "      <td>GALAXY</td>\n",
       "    </tr>\n",
       "  </tbody>\n",
       "</table>\n",
       "</div>"
      ],
      "text/plain": [
       "        class\n",
       "31152     QSO\n",
       "33499     QSO\n",
       "18594  GALAXY\n",
       "97132  GALAXY\n",
       "56015  GALAXY"
      ]
     },
     "execution_count": 13,
     "metadata": {},
     "output_type": "execute_result"
    }
   ],
   "source": [
    "y_train.head()"
   ]
  },
  {
   "cell_type": "markdown",
   "id": "f70be2f0",
   "metadata": {
    "papermill": {
     "duration": 0.027629,
     "end_time": "2022-04-20T16:25:18.824505",
     "exception": false,
     "start_time": "2022-04-20T16:25:18.796876",
     "status": "completed"
    },
    "tags": []
   },
   "source": [
    "## **Model Training**"
   ]
  },
  {
   "cell_type": "code",
   "execution_count": 14,
   "id": "956a48b0",
   "metadata": {
    "execution": {
     "iopub.execute_input": "2022-04-20T16:25:18.881903Z",
     "iopub.status.busy": "2022-04-20T16:25:18.881412Z",
     "iopub.status.idle": "2022-04-20T16:27:09.746999Z",
     "shell.execute_reply": "2022-04-20T16:27:09.745865Z"
    },
    "papermill": {
     "duration": 110.940939,
     "end_time": "2022-04-20T16:27:09.793257",
     "exception": false,
     "start_time": "2022-04-20T16:25:18.852318",
     "status": "completed"
    },
    "tags": []
   },
   "outputs": [
    {
     "data": {
      "text/plain": [
       "LogisticRegression(max_iter=2500)"
      ]
     },
     "execution_count": 14,
     "metadata": {},
     "output_type": "execute_result"
    }
   ],
   "source": [
    "model=LogisticRegression(max_iter=2500)\n",
    "model.fit(x_train,np.ravel(y_train,order='C'))"
   ]
  },
  {
   "cell_type": "markdown",
   "id": "2b9e0a34",
   "metadata": {
    "papermill": {
     "duration": 0.027646,
     "end_time": "2022-04-20T16:27:09.871578",
     "exception": false,
     "start_time": "2022-04-20T16:27:09.843932",
     "status": "completed"
    },
    "tags": []
   },
   "source": [
    "# **CHECKING MODEL ACCURACY**"
   ]
  },
  {
   "cell_type": "markdown",
   "id": "c508660d",
   "metadata": {
    "papermill": {
     "duration": 0.02787,
     "end_time": "2022-04-20T16:27:09.927455",
     "exception": false,
     "start_time": "2022-04-20T16:27:09.899585",
     "status": "completed"
    },
    "tags": []
   },
   "source": [
    "**Confussion Matrix to visualise the model behaviour**"
   ]
  },
  {
   "cell_type": "code",
   "execution_count": 15,
   "id": "98c3ea35",
   "metadata": {
    "execution": {
     "iopub.execute_input": "2022-04-20T16:27:09.984988Z",
     "iopub.status.busy": "2022-04-20T16:27:09.984711Z",
     "iopub.status.idle": "2022-04-20T16:27:10.370365Z",
     "shell.execute_reply": "2022-04-20T16:27:10.369610Z"
    },
    "papermill": {
     "duration": 0.417059,
     "end_time": "2022-04-20T16:27:10.372438",
     "exception": false,
     "start_time": "2022-04-20T16:27:09.955379",
     "status": "completed"
    },
    "tags": []
   },
   "outputs": [
    {
     "data": {
      "text/plain": [
       "Text(69.0, 0.5, 'Truth')"
      ]
     },
     "execution_count": 15,
     "metadata": {},
     "output_type": "execute_result"
    },
    {
     "data": {
      "image/png": "[encoded data removed]",
      "text/plain": [
       "<Figure size 720x504 with 2 Axes>"
      ]
     },
     "metadata": {
      "needs_background": "light"
     },
     "output_type": "display_data"
    }
   ],
   "source": [
    "y_pred=model.predict(x_test)\n",
    "cm=confusion_matrix(y_test,y_pred)\n",
    "plt.figure(figsize=(10,7))\n",
    "sns.heatmap(cm,annot=True)\n",
    "plt.xlabel('Predicted')\n",
    "plt.ylabel('Truth')"
   ]
  },
  {
   "cell_type": "markdown",
   "id": "bcaca208",
   "metadata": {
    "papermill": {
     "duration": 0.029116,
     "end_time": "2022-04-20T16:27:10.430915",
     "exception": false,
     "start_time": "2022-04-20T16:27:10.401799",
     "status": "completed"
    },
    "tags": []
   },
   "source": [
    "**Model Accuracy score (in %)**"
   ]
  },
  {
   "cell_type": "code",
   "execution_count": 16,
   "id": "512a4ce9",
   "metadata": {
    "execution": {
     "iopub.execute_input": "2022-04-20T16:27:10.490965Z",
     "iopub.status.busy": "2022-04-20T16:27:10.490472Z",
     "iopub.status.idle": "2022-04-20T16:27:10.548607Z",
     "shell.execute_reply": "2022-04-20T16:27:10.547707Z"
    },
    "papermill": {
     "duration": 0.091437,
     "end_time": "2022-04-20T16:27:10.551392",
     "exception": false,
     "start_time": "2022-04-20T16:27:10.459955",
     "status": "completed"
    },
    "tags": []
   },
   "outputs": [
    {
     "name": "stdout",
     "output_type": "stream",
     "text": [
      "Model Accuracy: 95.33500000000001\n"
     ]
    }
   ],
   "source": [
    "accuracy=(model.score(x_test,y_test))*100\n",
    "print('Model Accuracy:', accuracy)"
   ]
  }
 ],
 "metadata": {
  "kernelspec": {
   "display_name": "Python 3",
   "language": "python",
   "name": "python3"
  },
  "language_info": {
   "codemirror_mode": {
    "name": "ipython",
    "version": 3
   },
   "file_extension": ".py",
   "mimetype": "text/x-python",
   "name": "python",
   "nbconvert_exporter": "python",
   "pygments_lexer": "ipython3",
   "version": "3.7.12"
  },
  "papermill": {
   "default_parameters": {},
   "duration": 125.902631,
   "end_time": "2022-04-20T16:27:11.333282",
   "environment_variables": {},
   "exception": null,
   "input_path": "__notebook__.ipynb",
   "output_path": "__notebook__.ipynb",
   "parameters": {},
   "start_time": "2022-04-20T16:25:05.430651",
   "version": "2.3.4"
  }
 },
 "nbformat": 4,
 "nbformat_minor": 5
}
